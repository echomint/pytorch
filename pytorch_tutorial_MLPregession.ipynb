{
 "cells": [
  {
   "cell_type": "markdown",
   "metadata": {},
   "source": [
    "# MLP（回帰）を実装しながらpytorchを基礎から学ぶ"
   ]
  },
  {
   "cell_type": "markdown",
   "metadata": {},
   "source": [
    "PyTorchはfacebookが開発した急速に成長しているディープラーニングフレームワークです。もともとはchainerのforkでしたが、先行して欧米圏の研究者に広く普及したことから、現在はPFN側がchainerを中止し、pytorchの開発に協力・合流する形となりました。\n",
    "pytorchがどのように機能するかを実装しながら確認したいと思います。"
   ]
  },
  {
   "cell_type": "markdown",
   "metadata": {},
   "source": [
    "流れ  \n",
    "・ニューラルネットワークの定義（nn.Module）  \n",
    "・入力データセットの反復処理（Dataset, Dataloader）    \n",
    "・損失の計算、勾配をネットワークのパラメーターに伝播（nn.Module）  \n",
    "・ネットワークの重みを更新（optimaizer）"
   ]
  },
  {
   "cell_type": "markdown",
   "metadata": {},
   "source": [
    "モジュール   \n",
    "torch.Tensor- backward()などのautograd操作をサポートする多次元配列。テンソルに対する勾配も保持します   \n",
    "nn.Module-ニューラルネットワークモジュール。GPUへの移動、エクスポート、読み込みなどのヘルパーを使用して、パラメーターをカプセル化する便利な方法  \n",
    "nn.Parameter-テンソルの一種。これは、属性としてに割り当てられたときにパラメータとして自動的に登録されます  \n",
    "autograd.Function-autograd操作の前方および後方定義を実装します。すべてのTensor操作は、Functionを作成しTensor、その履歴をエンコードする関数に接続する少なくとも1つのノードを作成します  "
   ]
  },
  {
   "cell_type": "markdown",
   "metadata": {},
   "source": [
    "## データの作成"
   ]
  },
  {
   "cell_type": "code",
   "execution_count": 1,
   "metadata": {},
   "outputs": [
    {
     "data": {
      "text/plain": [
       "<matplotlib.collections.PathCollection at 0x2365543ee48>"
      ]
     },
     "execution_count": 1,
     "metadata": {},
     "output_type": "execute_result"
    },
    {
     "data": {
      "image/png": "[encoded data removed]",
      "text/plain": [
       "<Figure size 432x288 with 1 Axes>"
      ]
     },
     "metadata": {
      "needs_background": "light"
     },
     "output_type": "display_data"
    }
   ],
   "source": [
    "import numpy as np\n",
    "import matplotlib.pyplot as plt\n",
    "%matplotlib inline\n",
    "\n",
    "np.random.seed(12)\n",
    "x = np.random.rand(100, 1)\n",
    "y = np.sin(5*x) + 0.1*np.random.randn(100, 1)\n",
    "\n",
    "plt.scatter(x, y)"
   ]
  },
  {
   "cell_type": "markdown",
   "metadata": {},
   "source": [
    "## tensor化\n",
    "deep learningでは計算にtensorが使われる。tensorとは3次元以上の配列のこと（scalarは0次元、vectorは1次元、matrixは2次元配列）\n",
    "numpy arrayをpytochに渡すにはtensorにする必要がある。\n",
    "torch.FloatTensorは32bit浮動小数点のこと（tensor属性について：https://pytorch.org/docs/stable/tensor_attributes.html）"
   ]
  },
  {
   "cell_type": "code",
   "execution_count": 2,
   "metadata": {},
   "outputs": [
    {
     "name": "stdout",
     "output_type": "stream",
     "text": [
      "<class 'numpy.ndarray'> <class 'torch.Tensor'> torch.FloatTensor\n"
     ]
    }
   ],
   "source": [
    "import torch\n",
    "\n",
    "x_tensor = torch.from_numpy(x).float()\n",
    "y_tensor = torch.from_numpy(y).float()\n",
    "\n",
    "print(type(x), type(x_tensor), x_tensor.type())"
   ]
  },
  {
   "cell_type": "markdown",
   "metadata": {},
   "source": [
    "## モデルの定義"
   ]
  },
  {
   "cell_type": "markdown",
   "metadata": {},
   "source": [
    "pytorchでは、nn.Moduleクラスを継承した「pythonのclass」としてモデルを定義する\n",
    "\n",
    "class MLP(nn.Module):\n",
    "定義するMLPというclassは、親クラスnn.Moduleを継承\n",
    "\n",
    "def __init__(self, n_feature=1, n_hidden=1, n_output=1)：\n",
    "引数を受け取ってインスタンス化する\n",
    "\n",
    "super(MLP, self).__init__()：\n",
    "nn.Moduleを継承して定義するためsuper関数を使う\n",
    "\n",
    "def forward(self, x):\n",
    "forward関数を定義するとbackward 関数（勾配が計算される）も自動的に定義される"
   ]
  },
  {
   "cell_type": "code",
   "execution_count": 3,
   "metadata": {},
   "outputs": [
    {
     "name": "stdout",
     "output_type": "stream",
     "text": [
      "MLP(\n",
      "  (hidden1): Linear(in_features=1, out_features=3, bias=True)\n",
      "  (hidden2): Linear(in_features=3, out_features=3, bias=True)\n",
      "  (hidden3): Linear(in_features=3, out_features=1, bias=True)\n",
      ")\n",
      "6\n",
      "torch.Size([3, 1])\n"
     ]
    }
   ],
   "source": [
    "import torch.nn as nn\n",
    "import torch.nn.functional as F\n",
    "import torch.optim as optim\n",
    "\n",
    "# modelの定義\n",
    "class MLP(nn.Module):\n",
    "    def __init__(self, n_feature=1, n_hidden=1, n_output=1):\n",
    "        super(MLP, self).__init__()\n",
    "        self.hidden1 = nn.Linear(n_feature, n_hidden)\n",
    "        self.hidden2 = nn.Linear(n_hidden, n_hidden)\n",
    "        self.hidden3 = nn.Linear(n_hidden, n_output)\n",
    "    \n",
    "    def forward(self, x):\n",
    "        x = F.relu(self.hidden1(x))\n",
    "        x = F.relu(self.hidden2(x))\n",
    "        x = self.hidden3(x)\n",
    "        return x\n",
    "\n",
    "net = MLP(n_hidden=3)\n",
    "print(net)\n",
    "\n",
    "params = list(net.parameters())\n",
    "print(len(params))\n",
    "print(params[0].size())"
   ]
  },
  {
   "cell_type": "markdown",
   "metadata": {},
   "source": [
    "## 損失の計算"
   ]
  },
  {
   "cell_type": "code",
   "execution_count": 4,
   "metadata": {},
   "outputs": [
    {
     "name": "stdout",
     "output_type": "stream",
     "text": [
      "output:tensor([0.1793], grad_fn=<AddBackward0>)\n",
      "tensor(0.4332, grad_fn=<MseLossBackward>)\n"
     ]
    }
   ],
   "source": [
    "# xを入力してみる\n",
    "x1 = x_tensor[0]\n",
    "output = net(x1)\n",
    "\n",
    "print('output:{}'.format(output))\n",
    "\n",
    "# 出力に対して損失を計算する\n",
    "y1 = y_tensor[0]\n",
    "\n",
    "loss_func = nn.MSELoss()\n",
    "loss = loss_func(output, y1)\n",
    "\n",
    "print(loss)"
   ]
  },
  {
   "cell_type": "markdown",
   "metadata": {},
   "source": [
    "## 誤差逆伝播\n",
    "逆伝播のステップはgrad_fnで確認できる"
   ]
  },
  {
   "cell_type": "code",
   "execution_count": 5,
   "metadata": {},
   "outputs": [
    {
     "name": "stdout",
     "output_type": "stream",
     "text": [
      "<MseLossBackward object at 0x00000236597BC128>\n",
      "<AddBackward0 object at 0x00000236597BC278>\n",
      "<SqueezeBackward3 object at 0x00000236597BC128>\n"
     ]
    }
   ],
   "source": [
    "print(loss.grad_fn)  # MSELoss\n",
    "print(loss.grad_fn.next_functions[0][0])  # Linear\n",
    "print(loss.grad_fn.next_functions[0][0].next_functions[0][0]) "
   ]
  },
  {
   "cell_type": "markdown",
   "metadata": {},
   "source": [
    "loss.backward()を使用して、誤差を逆伝播する。\n",
    "その前に既存の勾配があると蓄積されてしまうため、net.zero_grad()で消去する必要がある。"
   ]
  },
  {
   "cell_type": "code",
   "execution_count": 6,
   "metadata": {},
   "outputs": [
    {
     "name": "stdout",
     "output_type": "stream",
     "text": [
      "None\n",
      "tensor([ 0.0234, -0.2951,  0.0000])\n"
     ]
    }
   ],
   "source": [
    "net.zero_grad()\n",
    "print(net.hidden1.bias.grad)\n",
    "\n",
    "loss.backward(retain_graph=True)\n",
    "print(net.hidden1.bias.grad)"
   ]
  },
  {
   "cell_type": "markdown",
   "metadata": {},
   "source": [
    "## 重みの更新\n",
    "確率的勾配降下法（SGD）、Nesterov-SGD、Adam、RMSPropなどのさまざまなをtorch.optimで実装できる。"
   ]
  },
  {
   "cell_type": "code",
   "execution_count": 7,
   "metadata": {},
   "outputs": [
    {
     "name": "stdout",
     "output_type": "stream",
     "text": [
      "Parameter containing:\n",
      "tensor([[-0.7350],\n",
      "        [ 0.6190],\n",
      "        [-0.6888]], requires_grad=True)\n",
      "tensor([0., 0., 0.])\n",
      "Parameter containing:\n",
      "tensor([[-0.7350],\n",
      "        [ 0.6194],\n",
      "        [-0.6888]], requires_grad=True)\n",
      "tensor([ 0.0234, -0.2951,  0.0000])\n"
     ]
    }
   ],
   "source": [
    "import torch.optim as optim\n",
    "\n",
    "optimizer = optim.SGD(net.parameters(), lr=0.01)\n",
    "\n",
    "optimizer.zero_grad()\n",
    "print(net.hidden1.weight)\n",
    "print(net.hidden1.bias.grad)\n",
    "\n",
    "output = net(x1)\n",
    "loss = loss_func(output, y1)\n",
    "loss.backward()\n",
    "optimizer.step()  # 重みを更新\n",
    "\n",
    "print(net.hidden1.weight)\n",
    "print(net.hidden1.bias.grad)"
   ]
  },
  {
   "cell_type": "code",
   "execution_count": 8,
   "metadata": {},
   "outputs": [],
   "source": [
    "## 学習ループを回す"
   ]
  },
  {
   "cell_type": "markdown",
   "metadata": {},
   "source": [
    "Dataset：データとそれに対応するラベルを1組返すモジュール\n",
    "DataLoader：データをバッチサイズにまとめて返すモジュール"
   ]
  },
  {
   "cell_type": "code",
   "execution_count": 9,
   "metadata": {},
   "outputs": [
    {
     "name": "stdout",
     "output_type": "stream",
     "text": [
      "torch.cuda.FloatTensor\n",
      "(tensor([0.1542], device='cuda:0'), tensor([0.8375], device='cuda:0'))\n"
     ]
    }
   ],
   "source": [
    "from torch.utils.data import Dataset, DataLoader, TensorDataset\n",
    "from torch.utils.data.dataset import random_split\n",
    "\n",
    "device = torch.device('cuda') if torch.cuda.is_available() else 'cpu'\n",
    "\n",
    "x_tensor = torch.from_numpy(x).float().to(device)\n",
    "y_tensor = torch.from_numpy(y).float().to(device)\n",
    "print(x_tensor.type())\n",
    "\n",
    "dataset = TensorDataset(x_tensor, y_tensor)\n",
    "print(dataset[0])\n",
    "\n",
    "train, val = random_split(dataset, [80, 20])\n",
    "train_loader = DataLoader(dataset=train, batch_size=20)\n",
    "val_loader = DataLoader(dataset=val, batch_size=20)"
   ]
  },
  {
   "cell_type": "code",
   "execution_count": 10,
   "metadata": {},
   "outputs": [
    {
     "name": "stdout",
     "output_type": "stream",
     "text": [
      "[20] Training loss: 0.104\t Validation loss: 0.188\n",
      "[40] Training loss: 0.051\t Validation loss: 0.101\n",
      "[60] Training loss: 0.030\t Validation loss: 0.052\n",
      "[80] Training loss: 0.023\t Validation loss: 0.035\n",
      "[100] Training loss: 0.020\t Validation loss: 0.027\n"
     ]
    }
   ],
   "source": [
    "model = MLP(n_hidden=100).to(device)\n",
    "loss_fn = nn.MSELoss(reduction='mean')\n",
    "optimizer = optim.SGD(model.parameters(), lr=1e-1)\n",
    "#train_step = make_train_step(model, loss_fn, optimizer)\n",
    "\n",
    "n_epochs = 100\n",
    "training_losses = []\n",
    "validation_losses = []\n",
    "# print(model.state_dict())\n",
    "\n",
    "for epoch in range(n_epochs):\n",
    "    batch_losses = []\n",
    "    for x_batch, y_batch in train_loader:\n",
    "        x_batch = x_batch.to(device)\n",
    "        y_batch = y_batch.to(device)\n",
    "        \n",
    "        model.train()\n",
    "        y_pred = model(x_batch)\n",
    "        loss = loss_fn(y_batch, y_pred)\n",
    "        loss.backward()\n",
    "        optimizer.step()\n",
    "        optimizer.zero_grad()\n",
    "        batch_losses.append(loss.item())\n",
    "        \n",
    "    training_loss = np.mean(batch_losses)\n",
    "    training_losses.append(training_loss)\n",
    "\n",
    "    with torch.no_grad():\n",
    "        val_losses = []\n",
    "        for x_val, y_val in val_loader:\n",
    "            x_val = x_val.to(device)\n",
    "            y_val = y_val.to(device)\n",
    "            \n",
    "            model.eval()\n",
    "            y_pred = model(x_val)\n",
    "            val_loss = loss_fn(y_val, y_pred).item()\n",
    "            val_losses.append(val_loss)\n",
    "            \n",
    "        validation_loss = np.mean(val_losses)\n",
    "        validation_losses.append(validation_loss)\n",
    "    \n",
    "    if (epoch+1) % 20 == 0:\n",
    "        print(f\"[{epoch+1}] Training loss: {training_loss:.3f}\\t Validation loss: {validation_loss:.3f}\")\n",
    "\n",
    "# print(model.state_dict())"
   ]
  },
  {
   "cell_type": "code",
   "execution_count": 11,
   "metadata": {},
   "outputs": [
    {
     "data": {
      "text/plain": [
       "<matplotlib.collections.PathCollection at 0x236597beeb8>"
      ]
     },
     "execution_count": 11,
     "metadata": {},
     "output_type": "execute_result"
    },
    {
     "data": {
      "image/png": "[encoded data removed]",
      "text/plain": [
       "<Figure size 432x288 with 1 Axes>"
      ]
     },
     "metadata": {
      "needs_background": "light"
     },
     "output_type": "display_data"
    }
   ],
   "source": [
    "y_pred = model(x_tensor).to('cpu').data.numpy()\n",
    "plt.scatter(x, y)\n",
    "plt.scatter(x, y_pred, marker='_')"
   ]
  },
  {
   "cell_type": "code",
   "execution_count": 12,
   "metadata": {},
   "outputs": [
    {
     "data": {
      "image/svg+xml": [
       "<?xml version=\"1.0\" encoding=\"UTF-8\" standalone=\"no\"?>\r\n",
       "<!DOCTYPE svg PUBLIC \"-//W3C//DTD SVG 1.1//EN\"\r\n",
       " \"http://www.w3.org/Graphics/SVG/1.1/DTD/svg11.dtd\">\r\n",
       "<!-- Generated by graphviz version 2.38.0 (20140413.2041)\r\n",
       " -->\r\n",
       "<!-- Title: %3 Pages: 1 -->\r\n",
       "<svg width=\"299pt\" height=\"449pt\"\r\n",
       " viewBox=\"0.00 0.00 298.50 449.00\" xmlns=\"http://www.w3.org/2000/svg\" xmlns:xlink=\"http://www.w3.org/1999/xlink\">\r\n",
       "<g id=\"graph0\" class=\"graph\" transform=\"scale(1 1) rotate(0) translate(4 445)\">\r\n",
       "<title>%3</title>\r\n",
       "<polygon fill=\"white\" stroke=\"none\" points=\"-4,4 -4,-445 294.5,-445 294.5,4 -4,4\"/>\r\n",
       "<!-- 2432452780496 -->\r\n",
       "<g id=\"node1\" class=\"node\"><title>2432452780496</title>\r\n",
       "<polygon fill=\"#caff70\" stroke=\"black\" points=\"190.5,-21 89.5,-21 89.5,-0 190.5,-0 190.5,-21\"/>\r\n",
       "<text text-anchor=\"middle\" x=\"140\" y=\"-7.4\" font-family=\"Times New Roman,serif\" font-size=\"12.00\">AddmmBackward</text>\r\n",
       "</g>\r\n",
       "<!-- 2432452780608 -->\r\n",
       "<g id=\"node2\" class=\"node\"><title>2432452780608</title>\r\n",
       "<polygon fill=\"lightblue\" stroke=\"black\" points=\"77,-91 3,-91 3,-57 77,-57 77,-91\"/>\r\n",
       "<text text-anchor=\"middle\" x=\"40\" y=\"-77.4\" font-family=\"Times New Roman,serif\" font-size=\"12.00\">hidden3.bias</text>\r\n",
       "<text text-anchor=\"middle\" x=\"40\" y=\"-64.4\" font-family=\"Times New Roman,serif\" font-size=\"12.00\"> (1)</text>\r\n",
       "</g>\r\n",
       "<!-- 2432452780608&#45;&gt;2432452780496 -->\r\n",
       "<g id=\"edge1\" class=\"edge\"><title>2432452780608&#45;&gt;2432452780496</title>\r\n",
       "<path fill=\"none\" stroke=\"black\" d=\"M66.2738,-56.8416C81.6088,-47.4106 100.82,-35.5957 115.787,-26.3911\"/>\r\n",
       "<polygon fill=\"black\" stroke=\"black\" points=\"117.8,-29.2619 124.485,-21.0419 114.133,-23.2992 117.8,-29.2619\"/>\r\n",
       "</g>\r\n",
       "<!-- 2432452781000 -->\r\n",
       "<g id=\"node3\" class=\"node\"><title>2432452781000</title>\r\n",
       "<polygon fill=\"lightgrey\" stroke=\"black\" points=\"185,-84.5 95,-84.5 95,-63.5 185,-63.5 185,-84.5\"/>\r\n",
       "<text text-anchor=\"middle\" x=\"140\" y=\"-70.9\" font-family=\"Times New Roman,serif\" font-size=\"12.00\">ReluBackward0</text>\r\n",
       "</g>\r\n",
       "<!-- 2432452781000&#45;&gt;2432452780496 -->\r\n",
       "<g id=\"edge2\" class=\"edge\"><title>2432452781000&#45;&gt;2432452780496</title>\r\n",
       "<path fill=\"none\" stroke=\"black\" d=\"M140,-63.3906C140,-54.8657 140,-42.1392 140,-31.4235\"/>\r\n",
       "<polygon fill=\"black\" stroke=\"black\" points=\"143.5,-31.2448 140,-21.2449 136.5,-31.2449 143.5,-31.2448\"/>\r\n",
       "</g>\r\n",
       "<!-- 2432452781560 -->\r\n",
       "<g id=\"node4\" class=\"node\"><title>2432452781560</title>\r\n",
       "<polygon fill=\"lightgrey\" stroke=\"black\" points=\"187.5,-154.5 86.5,-154.5 86.5,-133.5 187.5,-133.5 187.5,-154.5\"/>\r\n",
       "<text text-anchor=\"middle\" x=\"137\" y=\"-140.9\" font-family=\"Times New Roman,serif\" font-size=\"12.00\">AddmmBackward</text>\r\n",
       "</g>\r\n",
       "<!-- 2432452781560&#45;&gt;2432452781000 -->\r\n",
       "<g id=\"edge3\" class=\"edge\"><title>2432452781560&#45;&gt;2432452781000</title>\r\n",
       "<path fill=\"none\" stroke=\"black\" d=\"M137.43,-133.257C137.871,-123.259 138.57,-107.422 139.127,-94.7821\"/>\r\n",
       "<polygon fill=\"black\" stroke=\"black\" points=\"142.627,-94.8692 139.571,-84.7247 135.634,-94.5607 142.627,-94.8692\"/>\r\n",
       "</g>\r\n",
       "<!-- 2431020959616 -->\r\n",
       "<g id=\"node5\" class=\"node\"><title>2431020959616</title>\r\n",
       "<polygon fill=\"lightblue\" stroke=\"black\" points=\"74,-231 0,-231 0,-197 74,-197 74,-231\"/>\r\n",
       "<text text-anchor=\"middle\" x=\"37\" y=\"-217.4\" font-family=\"Times New Roman,serif\" font-size=\"12.00\">hidden2.bias</text>\r\n",
       "<text text-anchor=\"middle\" x=\"37\" y=\"-204.4\" font-family=\"Times New Roman,serif\" font-size=\"12.00\"> (100)</text>\r\n",
       "</g>\r\n",
       "<!-- 2431020959616&#45;&gt;2432452781560 -->\r\n",
       "<g id=\"edge4\" class=\"edge\"><title>2431020959616&#45;&gt;2432452781560</title>\r\n",
       "<path fill=\"none\" stroke=\"black\" d=\"M60.6986,-196.885C76.9751,-185.817 98.45,-171.214 114.47,-160.321\"/>\r\n",
       "<polygon fill=\"black\" stroke=\"black\" points=\"116.439,-163.214 122.741,-154.696 112.503,-157.425 116.439,-163.214\"/>\r\n",
       "</g>\r\n",
       "<!-- 2431020957936 -->\r\n",
       "<g id=\"node6\" class=\"node\"><title>2431020957936</title>\r\n",
       "<polygon fill=\"lightgrey\" stroke=\"black\" points=\"182,-224.5 92,-224.5 92,-203.5 182,-203.5 182,-224.5\"/>\r\n",
       "<text text-anchor=\"middle\" x=\"137\" y=\"-210.9\" font-family=\"Times New Roman,serif\" font-size=\"12.00\">ReluBackward0</text>\r\n",
       "</g>\r\n",
       "<!-- 2431020957936&#45;&gt;2432452781560 -->\r\n",
       "<g id=\"edge5\" class=\"edge\"><title>2431020957936&#45;&gt;2432452781560</title>\r\n",
       "<path fill=\"none\" stroke=\"black\" d=\"M137,-203.257C137,-193.259 137,-177.422 137,-164.782\"/>\r\n",
       "<polygon fill=\"black\" stroke=\"black\" points=\"140.5,-164.725 137,-154.725 133.5,-164.725 140.5,-164.725\"/>\r\n",
       "</g>\r\n",
       "<!-- 2431021004672 -->\r\n",
       "<g id=\"node7\" class=\"node\"><title>2431021004672</title>\r\n",
       "<polygon fill=\"lightgrey\" stroke=\"black\" points=\"184.5,-294.5 83.5,-294.5 83.5,-273.5 184.5,-273.5 184.5,-294.5\"/>\r\n",
       "<text text-anchor=\"middle\" x=\"134\" y=\"-280.9\" font-family=\"Times New Roman,serif\" font-size=\"12.00\">AddmmBackward</text>\r\n",
       "</g>\r\n",
       "<!-- 2431021004672&#45;&gt;2431020957936 -->\r\n",
       "<g id=\"edge6\" class=\"edge\"><title>2431021004672&#45;&gt;2431020957936</title>\r\n",
       "<path fill=\"none\" stroke=\"black\" d=\"M134.43,-273.257C134.871,-263.259 135.57,-247.422 136.127,-234.782\"/>\r\n",
       "<polygon fill=\"black\" stroke=\"black\" points=\"139.627,-234.869 136.571,-224.725 132.634,-234.561 139.627,-234.869\"/>\r\n",
       "</g>\r\n",
       "<!-- 2431021006240 -->\r\n",
       "<g id=\"node8\" class=\"node\"><title>2431021006240</title>\r\n",
       "<polygon fill=\"lightblue\" stroke=\"black\" points=\"126,-371 52,-371 52,-337 126,-337 126,-371\"/>\r\n",
       "<text text-anchor=\"middle\" x=\"89\" y=\"-357.4\" font-family=\"Times New Roman,serif\" font-size=\"12.00\">hidden1.bias</text>\r\n",
       "<text text-anchor=\"middle\" x=\"89\" y=\"-344.4\" font-family=\"Times New Roman,serif\" font-size=\"12.00\"> (100)</text>\r\n",
       "</g>\r\n",
       "<!-- 2431021006240&#45;&gt;2431021004672 -->\r\n",
       "<g id=\"edge7\" class=\"edge\"><title>2431021006240&#45;&gt;2431021004672</title>\r\n",
       "<path fill=\"none\" stroke=\"black\" d=\"M99.6644,-336.885C106.338,-326.8 114.954,-313.78 121.886,-303.306\"/>\r\n",
       "<polygon fill=\"black\" stroke=\"black\" points=\"124.852,-305.165 127.452,-294.895 119.015,-301.302 124.852,-305.165\"/>\r\n",
       "</g>\r\n",
       "<!-- 2431021004112 -->\r\n",
       "<g id=\"node9\" class=\"node\"><title>2431021004112</title>\r\n",
       "<polygon fill=\"lightgrey\" stroke=\"black\" points=\"215.5,-364.5 144.5,-364.5 144.5,-343.5 215.5,-343.5 215.5,-364.5\"/>\r\n",
       "<text text-anchor=\"middle\" x=\"180\" y=\"-350.9\" font-family=\"Times New Roman,serif\" font-size=\"12.00\">TBackward</text>\r\n",
       "</g>\r\n",
       "<!-- 2431021004112&#45;&gt;2431021004672 -->\r\n",
       "<g id=\"edge8\" class=\"edge\"><title>2431021004112&#45;&gt;2431021004672</title>\r\n",
       "<path fill=\"none\" stroke=\"black\" d=\"M173.409,-343.257C166.373,-332.855 155.06,-316.133 146.357,-303.266\"/>\r\n",
       "<polygon fill=\"black\" stroke=\"black\" points=\"149.081,-301.046 140.578,-294.725 143.283,-304.969 149.081,-301.046\"/>\r\n",
       "</g>\r\n",
       "<!-- 2431021121320 -->\r\n",
       "<g id=\"node10\" class=\"node\"><title>2431021121320</title>\r\n",
       "<polygon fill=\"lightblue\" stroke=\"black\" points=\"222.5,-441 137.5,-441 137.5,-407 222.5,-407 222.5,-441\"/>\r\n",
       "<text text-anchor=\"middle\" x=\"180\" y=\"-427.4\" font-family=\"Times New Roman,serif\" font-size=\"12.00\">hidden1.weight</text>\r\n",
       "<text text-anchor=\"middle\" x=\"180\" y=\"-414.4\" font-family=\"Times New Roman,serif\" font-size=\"12.00\"> (100, 1)</text>\r\n",
       "</g>\r\n",
       "<!-- 2431021121320&#45;&gt;2431021004112 -->\r\n",
       "<g id=\"edge9\" class=\"edge\"><title>2431021121320&#45;&gt;2431021004112</title>\r\n",
       "<path fill=\"none\" stroke=\"black\" d=\"M180,-406.885C180,-397.309 180,-385.088 180,-374.912\"/>\r\n",
       "<polygon fill=\"black\" stroke=\"black\" points=\"183.5,-374.895 180,-364.895 176.5,-374.895 183.5,-374.895\"/>\r\n",
       "</g>\r\n",
       "<!-- 2431020961072 -->\r\n",
       "<g id=\"node11\" class=\"node\"><title>2431020961072</title>\r\n",
       "<polygon fill=\"lightgrey\" stroke=\"black\" points=\"277.5,-224.5 206.5,-224.5 206.5,-203.5 277.5,-203.5 277.5,-224.5\"/>\r\n",
       "<text text-anchor=\"middle\" x=\"242\" y=\"-210.9\" font-family=\"Times New Roman,serif\" font-size=\"12.00\">TBackward</text>\r\n",
       "</g>\r\n",
       "<!-- 2431020961072&#45;&gt;2432452781560 -->\r\n",
       "<g id=\"edge10\" class=\"edge\"><title>2431020961072&#45;&gt;2432452781560</title>\r\n",
       "<path fill=\"none\" stroke=\"black\" d=\"M226.956,-203.257C209.47,-191.933 180.416,-173.117 160.072,-159.942\"/>\r\n",
       "<polygon fill=\"black\" stroke=\"black\" points=\"161.974,-157.004 151.678,-154.505 158.169,-162.879 161.974,-157.004\"/>\r\n",
       "</g>\r\n",
       "<!-- 2431021004000 -->\r\n",
       "<g id=\"node12\" class=\"node\"><title>2431021004000</title>\r\n",
       "<polygon fill=\"lightblue\" stroke=\"black\" points=\"287.5,-301 202.5,-301 202.5,-267 287.5,-267 287.5,-301\"/>\r\n",
       "<text text-anchor=\"middle\" x=\"245\" y=\"-287.4\" font-family=\"Times New Roman,serif\" font-size=\"12.00\">hidden2.weight</text>\r\n",
       "<text text-anchor=\"middle\" x=\"245\" y=\"-274.4\" font-family=\"Times New Roman,serif\" font-size=\"12.00\"> (100, 100)</text>\r\n",
       "</g>\r\n",
       "<!-- 2431021004000&#45;&gt;2431020961072 -->\r\n",
       "<g id=\"edge11\" class=\"edge\"><title>2431021004000&#45;&gt;2431020961072</title>\r\n",
       "<path fill=\"none\" stroke=\"black\" d=\"M244.289,-266.885C243.867,-257.309 243.327,-245.088 242.878,-234.912\"/>\r\n",
       "<polygon fill=\"black\" stroke=\"black\" points=\"246.374,-234.731 242.437,-224.895 239.381,-235.039 246.374,-234.731\"/>\r\n",
       "</g>\r\n",
       "<!-- 2432452780440 -->\r\n",
       "<g id=\"node13\" class=\"node\"><title>2432452780440</title>\r\n",
       "<polygon fill=\"lightgrey\" stroke=\"black\" points=\"280.5,-84.5 209.5,-84.5 209.5,-63.5 280.5,-63.5 280.5,-84.5\"/>\r\n",
       "<text text-anchor=\"middle\" x=\"245\" y=\"-70.9\" font-family=\"Times New Roman,serif\" font-size=\"12.00\">TBackward</text>\r\n",
       "</g>\r\n",
       "<!-- 2432452780440&#45;&gt;2432452780496 -->\r\n",
       "<g id=\"edge12\" class=\"edge\"><title>2432452780440&#45;&gt;2432452780496</title>\r\n",
       "<path fill=\"none\" stroke=\"black\" d=\"M228.594,-63.3906C211.565,-53.4165 184.716,-37.6908 165.035,-26.1633\"/>\r\n",
       "<polygon fill=\"black\" stroke=\"black\" points=\"166.689,-23.0759 156.291,-21.0419 163.151,-29.1161 166.689,-23.0759\"/>\r\n",
       "</g>\r\n",
       "<!-- 2431020959840 -->\r\n",
       "<g id=\"node14\" class=\"node\"><title>2431020959840</title>\r\n",
       "<polygon fill=\"lightblue\" stroke=\"black\" points=\"290.5,-161 205.5,-161 205.5,-127 290.5,-127 290.5,-161\"/>\r\n",
       "<text text-anchor=\"middle\" x=\"248\" y=\"-147.4\" font-family=\"Times New Roman,serif\" font-size=\"12.00\">hidden3.weight</text>\r\n",
       "<text text-anchor=\"middle\" x=\"248\" y=\"-134.4\" font-family=\"Times New Roman,serif\" font-size=\"12.00\"> (1, 100)</text>\r\n",
       "</g>\r\n",
       "<!-- 2431020959840&#45;&gt;2432452780440 -->\r\n",
       "<g id=\"edge13\" class=\"edge\"><title>2431020959840&#45;&gt;2432452780440</title>\r\n",
       "<path fill=\"none\" stroke=\"black\" d=\"M247.289,-126.885C246.867,-117.309 246.327,-105.088 245.878,-94.9119\"/>\r\n",
       "<polygon fill=\"black\" stroke=\"black\" points=\"249.374,-94.7306 245.437,-84.8946 242.381,-95.0392 249.374,-94.7306\"/>\r\n",
       "</g>\r\n",
       "</g>\r\n",
       "</svg>\r\n"
      ],
      "text/plain": [
       "<graphviz.dot.Digraph at 0x23604220b00>"
      ]
     },
     "execution_count": 12,
     "metadata": {},
     "output_type": "execute_result"
    }
   ],
   "source": [
    "from torchviz import make_dot\n",
    "y=model(x_tensor)\n",
    "make_dot(y,params=dict(model.named_parameters()))"
   ]
  },
  {
   "cell_type": "markdown",
   "metadata": {},
   "source": [
    "計算グラフの可視化"
   ]
  },
  {
   "cell_type": "code",
   "execution_count": 13,
   "metadata": {},
   "outputs": [
    {
     "name": "stdout",
     "output_type": "stream",
     "text": [
      "graph(%input : Float(100, 1),\n",
      "      %hidden1.weight : Float(100, 1),\n",
      "      %hidden1.bias : Float(100),\n",
      "      %hidden2.weight : Float(100, 100),\n",
      "      %hidden2.bias : Float(100),\n",
      "      %hidden3.weight : Float(1, 100),\n",
      "      %hidden3.bias : Float(1)):\n",
      "  %7 : Float(100, 100) = onnx::Gemm[alpha=1, beta=1, transB=1](%input, %hidden1.weight, %hidden1.bias) # C:\\Users\\keita\\Anaconda3\\envs\\pytorch_dgl\\lib\\site-packages\\torch\\nn\\functional.py:1370:0\n",
      "  %8 : Float(100, 100) = onnx::Relu(%7) # C:\\Users\\keita\\Anaconda3\\envs\\pytorch_dgl\\lib\\site-packages\\torch\\nn\\functional.py:914:0\n",
      "  %9 : Float(100, 100) = onnx::Gemm[alpha=1, beta=1, transB=1](%8, %hidden2.weight, %hidden2.bias) # C:\\Users\\keita\\Anaconda3\\envs\\pytorch_dgl\\lib\\site-packages\\torch\\nn\\functional.py:1370:0\n",
      "  %10 : Float(100, 100) = onnx::Relu(%9) # C:\\Users\\keita\\Anaconda3\\envs\\pytorch_dgl\\lib\\site-packages\\torch\\nn\\functional.py:914:0\n",
      "  %output : Float(100, 1) = onnx::Gemm[alpha=1, beta=1, transB=1](%10, %hidden3.weight, %hidden3.bias) # C:\\Users\\keita\\Anaconda3\\envs\\pytorch_dgl\\lib\\site-packages\\torch\\nn\\functional.py:1370:0\n",
      "  return (%output)\n",
      "\n"
     ]
    }
   ],
   "source": [
    "input_names = [ \"input\"]\n",
    "output_names = [ \"output\" ]\n",
    "torch.onnx.export(model, x_tensor, \"./test_model.onnx\", verbose=True,input_names=input_names,output_names=output_names)"
   ]
  },
  {
   "cell_type": "code",
   "execution_count": null,
   "metadata": {},
   "outputs": [],
   "source": []
  }
 ],
 "metadata": {
  "kernelspec": {
   "display_name": "Python 3",
   "language": "python",
   "name": "python3"
  },
  "language_info": {
   "codemirror_mode": {
    "name": "ipython",
    "version": 3
   },
   "file_extension": ".py",
   "mimetype": "text/x-python",
   "name": "python",
   "nbconvert_exporter": "python",
   "pygments_lexer": "ipython3",
   "version": "3.6.10"
  }
 },
 "nbformat": 4,
 "nbformat_minor": 4
}
