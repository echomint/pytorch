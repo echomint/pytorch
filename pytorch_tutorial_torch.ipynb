{
 "cells": [
  {
   "cell_type": "markdown",
   "metadata": {},
   "source": [
    "# 速習torch"
   ]
  },
  {
   "cell_type": "code",
   "execution_count": 1,
   "metadata": {},
   "outputs": [],
   "source": [
    "from __future__ import print_function\n",
    "import torch"
   ]
  },
  {
   "cell_type": "code",
   "execution_count": 2,
   "metadata": {},
   "outputs": [
    {
     "name": "stdout",
     "output_type": "stream",
     "text": [
      "tensor([[0.1917, 0.3405, 0.5191],\n",
      "        [0.0555, 0.2899, 0.9191],\n",
      "        [0.0844, 0.2913, 0.7757],\n",
      "        [0.1771, 0.7732, 0.9604],\n",
      "        [0.4159, 0.4367, 0.6654]])\n",
      "torch.Size([5, 3])\n",
      "tensor([0.3405, 0.2899, 0.2913, 0.7732, 0.4367])\n"
     ]
    }
   ],
   "source": [
    "#　ランダムに初期化された行列を作成\n",
    "x = torch.rand(5, 3)\n",
    "print(x)\n",
    "print(x.size())\n",
    "\n",
    "#　スライスなどnumpy likeに扱える\n",
    "print(x[:, 1])"
   ]
  },
  {
   "cell_type": "code",
   "execution_count": 3,
   "metadata": {},
   "outputs": [
    {
     "name": "stdout",
     "output_type": "stream",
     "text": [
      "tensor([[1.1917, 1.3405, 1.5191],\n",
      "        [1.0555, 1.2899, 1.9191],\n",
      "        [1.0844, 1.2913, 1.7757],\n",
      "        [1.1771, 1.7732, 1.9604],\n",
      "        [1.4159, 1.4367, 1.6654]])\n",
      "tensor([[1.1917, 1.3405, 1.5191],\n",
      "        [1.0555, 1.2899, 1.9191],\n",
      "        [1.0844, 1.2913, 1.7757],\n",
      "        [1.1771, 1.7732, 1.9604],\n",
      "        [1.4159, 1.4367, 1.6654]])\n",
      "tensor([[1.1917, 1.3405, 1.5191],\n",
      "        [1.0555, 1.2899, 1.9191],\n",
      "        [1.0844, 1.2913, 1.7757],\n",
      "        [1.1771, 1.7732, 1.9604],\n",
      "        [1.4159, 1.4367, 1.6654]])\n"
     ]
    }
   ],
   "source": [
    "#　加算\n",
    "y = torch.ones(5, 3)\n",
    "print(x + y)\n",
    "print(torch.add(x, y))\n",
    "\n",
    "#　out因数で出力tensorを用意\n",
    "result = torch.empty(5, 3)\n",
    "torch.add(x, y, out=result)\n",
    "print(result)"
   ]
  },
  {
   "cell_type": "code",
   "execution_count": 4,
   "metadata": {},
   "outputs": [
    {
     "name": "stdout",
     "output_type": "stream",
     "text": [
      "torch.Size([5, 3]) torch.Size([15]) torch.Size([3, 5])\n"
     ]
    }
   ],
   "source": [
    "# viewで並び替え\n",
    "x_sort1 = x.view(15)\n",
    "x_sort2 = x.view(-1, 5)\n",
    "print(x.size(), x_sort1.size(), x_sort2.size())"
   ]
  },
  {
   "cell_type": "code",
   "execution_count": 5,
   "metadata": {},
   "outputs": [
    {
     "name": "stdout",
     "output_type": "stream",
     "text": [
      "tensor([1., 1., 1., 1., 1.])\n",
      "[1. 1. 1. 1. 1.]\n",
      "tensor([2., 2., 2., 2., 2.])\n",
      "[2. 2. 2. 2. 2.]\n",
      "[1. 1. 1. 1. 1.]\n",
      "tensor([1., 1., 1., 1., 1.], dtype=torch.float64)\n"
     ]
    }
   ],
   "source": [
    "#　tensorをnumpyに変換\n",
    "a = torch.ones(5)\n",
    "b = a.numpy()\n",
    "print(a)\n",
    "print(b)\n",
    "\n",
    "#　tensorにした操作は変換先にも反映される\n",
    "a.add_(1)\n",
    "print(a)\n",
    "print(b)\n",
    "\n",
    "#　numpyからtensorに変換\n",
    "import numpy as np\n",
    "a = np.ones(5)\n",
    "b = torch.from_numpy(a)\n",
    "print(a)\n",
    "print(b)"
   ]
  },
  {
   "cell_type": "code",
   "execution_count": 6,
   "metadata": {},
   "outputs": [
    {
     "name": "stdout",
     "output_type": "stream",
     "text": [
      "tensor([[1.1917, 1.3405, 1.5191],\n",
      "        [1.0555, 1.2899, 1.9191],\n",
      "        [1.0844, 1.2913, 1.7757],\n",
      "        [1.1771, 1.7732, 1.9604],\n",
      "        [1.4159, 1.4367, 1.6654]], device='cuda:0')\n",
      "tensor([[1.1917, 1.3405, 1.5191],\n",
      "        [1.0555, 1.2899, 1.9191],\n",
      "        [1.0844, 1.2913, 1.7757],\n",
      "        [1.1771, 1.7732, 1.9604],\n",
      "        [1.4159, 1.4367, 1.6654]], dtype=torch.float64)\n"
     ]
    }
   ],
   "source": [
    "#　toメソッドを使用して、テンソルを任意のデバイスに移動できます。\n",
    "if torch.cuda.is_available():\n",
    "    device = torch.device(\"cuda\")          \n",
    "    x = x.to(device)\n",
    "    y = torch.ones_like(x, device=device)                      \n",
    "    z = x + y\n",
    "    print(z)\n",
    "    print(z.to(\"cpu\", torch.double)) "
   ]
  },
  {
   "cell_type": "code",
   "execution_count": null,
   "metadata": {},
   "outputs": [],
   "source": []
  }
 ],
 "metadata": {
  "kernelspec": {
   "display_name": "Python 3",
   "language": "python",
   "name": "python3"
  },
  "language_info": {
   "codemirror_mode": {
    "name": "ipython",
    "version": 3
   },
   "file_extension": ".py",
   "mimetype": "text/x-python",
   "name": "python",
   "nbconvert_exporter": "python",
   "pygments_lexer": "ipython3",
   "version": "3.6.10"
  }
 },
 "nbformat": 4,
 "nbformat_minor": 4
}
