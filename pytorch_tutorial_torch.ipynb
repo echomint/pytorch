{
 "cells": [
  {
   "cell_type": "markdown",
   "metadata": {},
   "source": [
    "# 速習torch"
   ]
  },
  {
   "cell_type": "code",
   "execution_count": 12,
   "metadata": {},
   "outputs": [],
   "source": [
    "from __future__ import print_function\n",
    "import torch"
   ]
  },
  {
   "cell_type": "code",
   "execution_count": 21,
   "metadata": {},
   "outputs": [
    {
     "name": "stdout",
     "output_type": "stream",
     "text": [
      "tensor([[0.9950, 0.8168, 0.6981],\n",
      "        [0.0420, 0.3956, 0.9324],\n",
      "        [0.7310, 0.0864, 0.5840],\n",
      "        [0.2433, 0.3650, 0.2506],\n",
      "        [0.3126, 0.7840, 0.1970]])\n",
      "torch.Size([5, 3])\n",
      "tensor([0.8168, 0.3956, 0.0864, 0.3650, 0.7840])\n"
     ]
    }
   ],
   "source": [
    "#　ランダムに初期化された行列を作成\n",
    "x = torch.rand(5, 3)\n",
    "print(x)\n",
    "print(x.size())\n",
    "\n",
    "#　スライスなどnumpy likeに扱える\n",
    "print(x[:, 1])"
   ]
  },
  {
   "cell_type": "code",
   "execution_count": 23,
   "metadata": {},
   "outputs": [
    {
     "name": "stdout",
     "output_type": "stream",
     "text": [
      "tensor([[1.9950, 1.8168, 1.6981],\n",
      "        [1.0420, 1.3956, 1.9324],\n",
      "        [1.7310, 1.0864, 1.5840],\n",
      "        [1.2433, 1.3650, 1.2506],\n",
      "        [1.3126, 1.7840, 1.1970]])\n",
      "tensor([[1.9950, 1.8168, 1.6981],\n",
      "        [1.0420, 1.3956, 1.9324],\n",
      "        [1.7310, 1.0864, 1.5840],\n",
      "        [1.2433, 1.3650, 1.2506],\n",
      "        [1.3126, 1.7840, 1.1970]])\n",
      "tensor([[1.9950, 1.8168, 1.6981],\n",
      "        [1.0420, 1.3956, 1.9324],\n",
      "        [1.7310, 1.0864, 1.5840],\n",
      "        [1.2433, 1.3650, 1.2506],\n",
      "        [1.3126, 1.7840, 1.1970]])\n"
     ]
    }
   ],
   "source": [
    "#　加算\n",
    "y = torch.ones(5, 3)\n",
    "print(x + y)\n",
    "print(torch.add(x, y))\n",
    "\n",
    "#　out因数で出力tensorを用意\n",
    "result = torch.empty(5, 3)\n",
    "torch.add(x, y, out=result)\n",
    "print(result)"
   ]
  },
  {
   "cell_type": "code",
   "execution_count": 30,
   "metadata": {},
   "outputs": [
    {
     "name": "stdout",
     "output_type": "stream",
     "text": [
      "torch.Size([5, 3]) torch.Size([15]) torch.Size([3, 5])\n"
     ]
    }
   ],
   "source": [
    "# viewで並び替え\n",
    "x_sort1 = x.view(15)\n",
    "x_sort2 = x.view(-1, 5)\n",
    "print(x.size(), x_sort1.size(), x_sort2.size())"
   ]
  },
  {
   "cell_type": "code",
   "execution_count": 38,
   "metadata": {},
   "outputs": [
    {
     "name": "stdout",
     "output_type": "stream",
     "text": [
      "tensor([1., 1., 1., 1., 1.])\n",
      "[1. 1. 1. 1. 1.]\n",
      "tensor([2., 2., 2., 2., 2.])\n",
      "[2. 2. 2. 2. 2.]\n",
      "[1. 1. 1. 1. 1.]\n",
      "tensor([1., 1., 1., 1., 1.], dtype=torch.float64)\n"
     ]
    }
   ],
   "source": [
    "#　tensorをnumpyに変換\n",
    "a = torch.ones(5)\n",
    "b = a.numpy()\n",
    "print(a)\n",
    "print(b)\n",
    "\n",
    "#　tensorにした操作は変換先にも反映される\n",
    "a.add_(1)\n",
    "print(a)\n",
    "print(b)\n",
    "\n",
    "#　numpyからtensorに変換\n",
    "import numpy as np\n",
    "a = np.ones(5)\n",
    "b = torch.from_numpy(a)\n",
    "print(a)\n",
    "print(b)"
   ]
  },
  {
   "cell_type": "code",
   "execution_count": 36,
   "metadata": {},
   "outputs": [
    {
     "name": "stdout",
     "output_type": "stream",
     "text": [
      "tensor([[1.9950, 1.8168, 1.6981],\n",
      "        [1.0420, 1.3956, 1.9324],\n",
      "        [1.7310, 1.0864, 1.5840],\n",
      "        [1.2433, 1.3650, 1.2506],\n",
      "        [1.3126, 1.7840, 1.1970]], device='cuda:0')\n",
      "tensor([[1.9950, 1.8168, 1.6981],\n",
      "        [1.0420, 1.3956, 1.9324],\n",
      "        [1.7310, 1.0864, 1.5840],\n",
      "        [1.2433, 1.3650, 1.2506],\n",
      "        [1.3126, 1.7840, 1.1970]], dtype=torch.float64)\n"
     ]
    }
   ],
   "source": [
    "#　toメソッドを使用して、テンソルを任意のデバイスに移動できます。\n",
    "if torch.cuda.is_available():\n",
    "    device = torch.device(\"cuda\")          \n",
    "    x = x.to(device)\n",
    "    y = torch.ones_like(x, device=device)                      \n",
    "    z = x + y\n",
    "    print(z)\n",
    "    print(z.to(\"cpu\", torch.double)) "
   ]
  },
  {
   "cell_type": "code",
   "execution_count": null,
   "metadata": {},
   "outputs": [],
   "source": []
  }
 ],
 "metadata": {
  "kernelspec": {
   "display_name": "Python 3",
   "language": "python",
   "name": "python3"
  },
  "language_info": {
   "codemirror_mode": {
    "name": "ipython",
    "version": 3
   },
   "file_extension": ".py",
   "mimetype": "text/x-python",
   "name": "python",
   "nbconvert_exporter": "python",
   "pygments_lexer": "ipython3",
   "version": "3.6.10"
  }
 },
 "nbformat": 4,
 "nbformat_minor": 4
}
